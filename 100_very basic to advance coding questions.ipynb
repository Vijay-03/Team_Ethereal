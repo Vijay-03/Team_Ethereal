{
 "cells": [
  {
   "cell_type": "code",
   "execution_count": 152,
   "id": "7713f3c9",
   "metadata": {},
   "outputs": [],
   "source": [
    "# string.count(character) to calculate the frequence of character in a string\n",
    "# list.count(element) to calculate the frequence of element in a list"
   ]
  },
  {
   "cell_type": "code",
   "execution_count": 164,
   "id": "9994ecda",
   "metadata": {},
   "outputs": [
    {
     "name": "stdout",
     "output_type": "stream",
     "text": [
      "vijaywalkman\n",
      "walkman\n",
      "chary\n",
      "vijaychary\n"
     ]
    }
   ],
   "source": [
    "# Replacing substring with other string\n",
    "\n",
    "org_str=input()\n",
    "str1=input()\n",
    "str2=input()\n",
    "\n",
    "org_str = org_str.replace(str1,str2)\n",
    "\n",
    "print(org_str)"
   ]
  },
  {
   "cell_type": "code",
   "execution_count": 162,
   "id": "04f2a4ef",
   "metadata": {},
   "outputs": [
    {
     "name": "stdout",
     "output_type": "stream",
     "text": [
      "yes\n"
     ]
    }
   ],
   "source": [
    "# Checking if substring is in the orginal string\n",
    "\n",
    "s1 =  \"A geek in need is a geek indeed\"\n",
    "s2 =\"geek\"\n",
    "\n",
    "if s1.find(s2) == -1:\n",
    "    print(\"no\")\n",
    "else:\n",
    "    print(\"yes\")\n",
    "\n",
    "--------------------------------------------------------------------------------------------------------------------\n",
    "\n",
    "import re\n",
    "\n",
    "s1 =  \"A geek in need is a geek indeed\"\n",
    "s2 =\"geek\"\n",
    "\n",
    "if re.search(s2, s1):\n",
    "    print(\"yes\")\n"
   ]
  },
  {
   "cell_type": "code",
   "execution_count": 160,
   "id": "6f350d2c",
   "metadata": {},
   "outputs": [
    {
     "name": "stdout",
     "output_type": "stream",
     "text": [
      "yes\n"
     ]
    }
   ],
   "source": [
    "# Check for Anagrams\n",
    "\n",
    "from collections import Counter as c\n",
    "\n",
    "s1 = \"vijaychary\"\n",
    "s2 = \"ijaycharvy\"\n",
    "\n",
    "c1 = c(s1)\n",
    "c2 = c(s2)\n",
    "# print(c1)\n",
    "# print(c2)\n",
    "\n",
    "if c1 == c2:\n",
    "    print(\"yes\")\n",
    "else:\n",
    "    print(\"no\")"
   ]
  },
  {
   "cell_type": "code",
   "execution_count": null,
   "id": "2a2dc632",
   "metadata": {},
   "outputs": [],
   "source": []
  },
  {
   "cell_type": "code",
   "execution_count": null,
   "id": "960a0013",
   "metadata": {},
   "outputs": [],
   "source": [
    "# The ord() method in Python converts a character into its Unicode code value.\n",
    "# ASCII value\n",
    "\n",
    "Char = input('Enter the character :')\n",
    "# convert Char to Ascii value\n",
    "Asciival = ord(Char)\n",
    "print(Asciival)"
   ]
  },
  {
   "cell_type": "code",
   "execution_count": 15,
   "id": "b612209e",
   "metadata": {},
   "outputs": [
    {
     "name": "stdout",
     "output_type": "stream",
     "text": [
      "4\n",
      "[1, 2, 3, 4, 5]\n",
      "[10, 9, 8, 7, 6]\n",
      "[11, 12, 13, 14, 15]\n",
      "[20, 19, 18, 17, 16]\n"
     ]
    }
   ],
   "source": [
    "# print the sequence in straight and reverse\n",
    "n = int(input())\n",
    "arr = []\n",
    "arr = list(range(1,(n*5)+1))\n",
    "# for i in range(1, (n*5)+1):\n",
    "#     arr.append(i)\n",
    "temp = 5\n",
    "while n>0:\n",
    "    if n%2 == 0:\n",
    "        print(arr[:temp])\n",
    "        arr = arr[temp:]\n",
    "    else:\n",
    "        x = arr[:temp]\n",
    "        print(x[::-1])\n",
    "        arr = arr[temp:]\n",
    "    n -= 1\n"
   ]
  },
  {
   "cell_type": "code",
   "execution_count": 52,
   "id": "9f7beb06",
   "metadata": {},
   "outputs": [
    {
     "name": "stdout",
     "output_type": "stream",
     "text": [
      "8\n",
      "1 4 6 7 10 12 11 5\n",
      "24\n"
     ]
    }
   ],
   "source": [
    "# sum of odd numbers from list\n",
    "n = int(input())\n",
    "arr = list(map(int, input().split()))[:n]\n",
    "result = []\n",
    "for i in arr:\n",
    "    if i%2 != 0:\n",
    "        result.append(i)\n",
    "print(sum(result))"
   ]
  },
  {
   "cell_type": "code",
   "execution_count": 56,
   "id": "63b342d0",
   "metadata": {},
   "outputs": [
    {
     "name": "stdout",
     "output_type": "stream",
     "text": [
      "9\n",
      "6\n",
      "8\n",
      "9\n"
     ]
    }
   ],
   "source": [
    "# greatest number from 3 numbers\n",
    "a = int(input())\n",
    "b = int(input())\n",
    "c = int(input())\n",
    "if a>b and a>c:\n",
    "    print(a)\n",
    "elif b>a and b>c:\n",
    "    print(b)\n",
    "else:\n",
    "    print(c)"
   ]
  },
  {
   "cell_type": "code",
   "execution_count": 63,
   "id": "36b133b1",
   "metadata": {},
   "outputs": [
    {
     "name": "stdout",
     "output_type": "stream",
     "text": [
      "Enter the number: 4\n",
      "Given Year is a leap Year\n"
     ]
    }
   ],
   "source": [
    "# leap year\n",
    "def CheckLeap(Year):\n",
    "    if Year % 400 == 0 or Year % 100 != 0 and Year % 4 == 0:\n",
    "        print(\"Given Year is a leap Year\")\n",
    "    else:\n",
    "        print (\"Given Year is not a leap Year\")  \n",
    "Year = int(input(\"Enter the number: \")) \n",
    "CheckLeap(Year)  "
   ]
  },
  {
   "cell_type": "code",
   "execution_count": 91,
   "id": "7f9f398e",
   "metadata": {},
   "outputs": [
    {
     "name": "stdout",
     "output_type": "stream",
     "text": [
      "7\n",
      "Yes\n"
     ]
    }
   ],
   "source": [
    "# prime number\n",
    "def check_prime(n):\n",
    "#    n = n//2            # can also used to reduce the computation\n",
    "    if n <= 1:\n",
    "        return 0\n",
    "    for i in range(2, n):\n",
    "        if n % i == 0:\n",
    "            return \"Not\"\n",
    "    return \"Yes\"\n",
    "n = int(input())\n",
    "print(check_prime(n))"
   ]
  },
  {
   "cell_type": "code",
   "execution_count": 94,
   "id": "e03d1911",
   "metadata": {},
   "outputs": [
    {
     "name": "stdout",
     "output_type": "stream",
     "text": [
      "1\n",
      "10\n",
      "Result:\n",
      "2\n",
      "3\n",
      "5\n",
      "7\n"
     ]
    }
   ],
   "source": [
    "# print prime numbers from a range of numbers\n",
    "def check_prime(n):\n",
    "#    n = n//2            # can also used to reduce the computation\n",
    "    if n <= 1:\n",
    "        return 0\n",
    "    for i in range(2, n):\n",
    "        if n % i == 0:\n",
    "            return 0\n",
    "    return n\n",
    "n1 = int(input())\n",
    "n2 = int(input())\n",
    "arr = []\n",
    "for i in range(n1,n2):\n",
    "    arr.append(check_prime(i))\n",
    "print(\"Result:\")\n",
    "for x in arr:\n",
    "    if x == 0:\n",
    "        continue\n",
    "    print(x)\n",
    "    "
   ]
  },
  {
   "cell_type": "code",
   "execution_count": 3,
   "id": "b9553fa4",
   "metadata": {},
   "outputs": [
    {
     "name": "stdout",
     "output_type": "stream",
     "text": [
      "1567\n",
      "19\n"
     ]
    }
   ],
   "source": [
    "# sum of digits in an integer\n",
    "\n",
    "n = int(input())\n",
    "s = 0\n",
    "\n",
    "n = str(n)\n",
    "for i in n:\n",
    "    s += int(i)\n",
    "\n",
    "    print(s)\n",
    "\n",
    "-------------------------------------------------------------------------------------------------\n",
    "    \n",
    "n = int(input())\n",
    "s = 0\n",
    "\n",
    "while n>0:\n",
    "    r = n%10\n",
    "    s += r\n",
    "    n = n//10\n",
    "    \n",
    "print(s)"
   ]
  },
  {
   "cell_type": "code",
   "execution_count": 9,
   "id": "c8171d7d",
   "metadata": {},
   "outputs": [
    {
     "name": "stdout",
     "output_type": "stream",
     "text": [
      "4567\n",
      "7654\n"
     ]
    }
   ],
   "source": [
    "# reverse of an integer\n",
    "\n",
    "n = int(input())\n",
    "n = str(n)[::-1]\n",
    "print(int(n))"
   ]
  },
  {
   "cell_type": "code",
   "execution_count": 14,
   "id": "47bb8f3e",
   "metadata": {},
   "outputs": [
    {
     "name": "stdout",
     "output_type": "stream",
     "text": [
      "1331\n",
      "yes\n"
     ]
    }
   ],
   "source": [
    "# pslindrome number\n",
    "\n",
    "def pal(n):\n",
    "    s = str(n)\n",
    "    if s[::] == s[::-1]:\n",
    "        return \"yes\"\n",
    "    return \"no\"\n",
    "    \n",
    "    \n",
    "n = int(input())\n",
    "print(pal(n))"
   ]
  },
  {
   "cell_type": "code",
   "execution_count": 38,
   "id": "7f30b70e",
   "metadata": {},
   "outputs": [
    {
     "name": "stdout",
     "output_type": "stream",
     "text": [
      "153\n",
      "yes\n"
     ]
    }
   ],
   "source": [
    "# check for Armstrong number \n",
    "# An Armstrong number of three digits is an integer such that the sum of the cubes of its digits is equal\n",
    "# to the number itself. For example, 371 is an Armstrong number since 3**3 + 7**3 + 1**3 = 371.\n",
    "\n",
    "n = int(input())\n",
    "s = 0\n",
    "\n",
    "for i in str(n):\n",
    "    t = int(i)**len(str(n))\n",
    "    s += t\n",
    "if s == n:\n",
    "    print(\"yes\")\n",
    "else:\n",
    "    print(\"no\")"
   ]
  },
  {
   "cell_type": "code",
   "execution_count": 35,
   "id": "7fd87ba4",
   "metadata": {},
   "outputs": [
    {
     "name": "stdout",
     "output_type": "stream",
     "text": [
      "150\n",
      "380\n",
      "153 370 371\n"
     ]
    }
   ],
   "source": [
    "# check for Armstrong numbers in a range\n",
    "\n",
    "def arm(n1, n2):\n",
    "    arr =[]\n",
    "    for n in range(n1, n2+1):\n",
    "        s = 0\n",
    "        for i in str(n):\n",
    "            t = int(i)**len(str(n))\n",
    "            s += t\n",
    "        if s == n:\n",
    "            arr.append(n)\n",
    "    return arr\n",
    "\n",
    "if __name__ == '__main__':\n",
    "    n1 = int(input())\n",
    "    n2 = int(input())\n",
    "    r = arm(n1, n2)\n",
    "    print(*r)"
   ]
  },
  {
   "cell_type": "code",
   "execution_count": 44,
   "id": "a97073cb",
   "metadata": {},
   "outputs": [
    {
     "name": "stdout",
     "output_type": "stream",
     "text": [
      "9\n",
      "34\n"
     ]
    }
   ],
   "source": [
    "# fibonacci Series\n",
    "\n",
    "def fid(n):\n",
    "    if n <= 1:\n",
    "        return n\n",
    "    else:\n",
    "        return (fid(n-1) + fid(n-2))\n",
    "    \n",
    "    \n",
    "if __name__ == '__main__':\n",
    "    n = int(input())\n",
    "    if n < 0:\n",
    "        print(\"Enter valid number\")\n",
    "    else:\n",
    "        print(fid(n))"
   ]
  },
  {
   "cell_type": "code",
   "execution_count": 4,
   "id": "26cc1a8c",
   "metadata": {},
   "outputs": [
    {
     "name": "stdout",
     "output_type": "stream",
     "text": [
      "8\n",
      "40320\n"
     ]
    }
   ],
   "source": [
    "# factorial\n",
    "\n",
    "n = int(input())\n",
    "s = 1\n",
    "for i in range(n, 1, -1):\n",
    "    s = s*i\n",
    "print(s)"
   ]
  },
  {
   "cell_type": "code",
   "execution_count": 7,
   "id": "c1029add",
   "metadata": {},
   "outputs": [
    {
     "name": "stdout",
     "output_type": "stream",
     "text": [
      "145\n",
      "yes\n"
     ]
    }
   ],
   "source": [
    "# given number is strong or not\n",
    "# number is strong, if the sum of factorials of the digits is equal to that number\n",
    "# 145 = 1! + 4! + 5! = 145\n",
    "\n",
    "n = int(input())\n",
    "num = 0\n",
    "for i in str(n):\n",
    "    s = 1\n",
    "    for j in range(int(i), 1, -1):\n",
    "        s = s*j\n",
    "    num += s\n",
    "if num == n:\n",
    "    print(\"yes\")\n",
    "else:\n",
    "    print(\"no\")"
   ]
  },
  {
   "cell_type": "code",
   "execution_count": 12,
   "id": "e8e1621e",
   "metadata": {},
   "outputs": [
    {
     "name": "stdout",
     "output_type": "stream",
     "text": [
      "101\n",
      "5\n"
     ]
    }
   ],
   "source": [
    "# binary value to decimal value\n",
    "\n",
    "num = int(input())\n",
    "binary_val = str(num)[::-1]\n",
    "decimal_val = 0\n",
    "base = 1\n",
    "\n",
    "for i in binary_val:\n",
    "    decimal_val += int(i)*base\n",
    "    base *= 2\n",
    "    \n",
    "\n",
    "# while num > 0:\n",
    "#     rem = num % 10\n",
    "#     decimal_val = decimal_val + rem * base\n",
    "#     num = num // 10\n",
    "#     base = base * 2\n",
    "\n",
    "print(decimal_val)"
   ]
  },
  {
   "cell_type": "code",
   "execution_count": 17,
   "id": "35bf71f5",
   "metadata": {},
   "outputs": [
    {
     "name": "stdout",
     "output_type": "stream",
     "text": [
      "5\n",
      "101\n"
     ]
    }
   ],
   "source": [
    "# decimal value to binary value\n",
    "\n",
    "num = int(input())\n",
    "bi = bin(num)\n",
    "\n",
    "print(bi[2:])"
   ]
  },
  {
   "cell_type": "code",
   "execution_count": 26,
   "id": "e238e220",
   "metadata": {},
   "outputs": [
    {
     "name": "stdout",
     "output_type": "stream",
     "text": [
      "2 4 5 6 7 8 2 3 2 3 2 3 2 4 5 6 3 2 5 6 5 6 7 7 3 4 2 3 2 4 3\n",
      "2 8\n"
     ]
    }
   ],
   "source": [
    "# most repeated element in an array/list\n",
    "\n",
    "arr = list(map(int, input().split()))\n",
    "final_count = 0\n",
    "num = arr[0]\n",
    "for i in arr:\n",
    "    count1 = arr.count(i)\n",
    "    if count1 > final_count:\n",
    "        final_count = count1\n",
    "        num = i\n",
    "print(num, final_count)"
   ]
  },
  {
   "cell_type": "code",
   "execution_count": 36,
   "id": "672e9086",
   "metadata": {},
   "outputs": [
    {
     "name": "stdout",
     "output_type": "stream",
     "text": [
      "1 2 2 3 2\n",
      "2 3\n"
     ]
    }
   ],
   "source": [
    "# most repeated element in an array/list - 2\n",
    "\n",
    "from collections import Counter as c\n",
    "arr = list(map(int, input().split()))\n",
    "final = c(arr)\n",
    "val = 0\n",
    "for k,v in final.items():\n",
    "    if v > val:\n",
    "        val = v\n",
    "for k,v in final.items():\n",
    "    if v == val:\n",
    "        print(k,v)\n",
    "    "
   ]
  },
  {
   "cell_type": "code",
   "execution_count": 52,
   "id": "e3db38d1",
   "metadata": {},
   "outputs": [
    {
     "name": "stdout",
     "output_type": "stream",
     "text": [
      "-1 -3 -10 60 0\n",
      "[-1, 3, -3, -30, 30, -10, -1800, 1800, -600, 60, 0, 0, 0, 0, 0]\n",
      "1800\n"
     ]
    }
   ],
   "source": [
    "# Find maximum product sub-array in a given array \n",
    "\n",
    "from numpy import prod\n",
    "\n",
    "arr = list(map(int, input().split()))\n",
    "f = []\n",
    "temp = 0\n",
    "\n",
    "for i in range(1, len(arr)+1):\n",
    "    for j in range(i):\n",
    "        f.append(arr[j:i])\n",
    "        f.append(prod(arr[j:i]))\n",
    "\n",
    "# for l in f:\n",
    "#     if prod(l) > temp:\n",
    "#         temp = prod(l)\n",
    "\n",
    "print(f)\n",
    "print(max(f))\n",
    "\n",
    "# input: -1 -3 -10 60 0"
   ]
  },
  {
   "cell_type": "code",
   "execution_count": 57,
   "id": "15354404",
   "metadata": {},
   "outputs": [
    {
     "name": "stdout",
     "output_type": "stream",
     "text": [
      "2\n",
      "7\n",
      "-4 3 0 2 -7 1 5\n",
      "3 2\n",
      "5\n",
      "2 0 5 1 1\n",
      "2 5\n"
     ]
    }
   ],
   "source": [
    "# Finding equilibrium index of an array \n",
    "\n",
    "t = int(input())\n",
    "for _ in range(t):\n",
    "    n = int(input())\n",
    "    arr = list(map(int, input().split()))[:n]\n",
    "    temp = 0\n",
    "    for i in range(len(arr)):\n",
    "        if sum(arr[:i]) == sum(arr[i+1:]):\n",
    "            temp = i\n",
    "    if temp > 0:\n",
    "        print(temp, arr[temp])\n",
    "    else:\n",
    "        print(temp, '0')\n"
   ]
  },
  {
   "cell_type": "code",
   "execution_count": 75,
   "id": "acea53f1",
   "metadata": {},
   "outputs": [
    {
     "name": "stdout",
     "output_type": "stream",
     "text": [
      "1 2 3 4 5\n",
      "3\n",
      "3 4 5 1 2\n"
     ]
    }
   ],
   "source": [
    "# Roation of an array for given no. of times\n",
    "# Circular rotation\n",
    "\n",
    "arr = list(map(int, input().split()))\n",
    "k = int(input())\n",
    "\n",
    "n = len(arr)\n",
    "\n",
    "# logic\n",
    "k = k % n\n",
    "\n",
    "arr[:] = arr[-k:] + arr[:-k]\n",
    "print(*arr)"
   ]
  },
  {
   "cell_type": "code",
   "execution_count": 80,
   "id": "2c4c11a6",
   "metadata": {},
   "outputs": [
    {
     "name": "stdout",
     "output_type": "stream",
     "text": [
      "1 2 3 4 5\n",
      "2\n",
      "4 5 3 1 2\n"
     ]
    }
   ],
   "source": [
    "# Block swap algorithm for array rotation\n",
    "# swaping the blocks, i.e: swaping group of elements for rotation\n",
    "# group of elements are rotated at once\n",
    "\n",
    "arr = list(map(int, input().split()))\n",
    "k = int(input())\n",
    "\n",
    "arr[:] = arr[-k:] + arr[k:-k] + arr[:k]\n",
    "print(*arr)"
   ]
  },
  {
   "cell_type": "code",
   "execution_count": 81,
   "id": "1d179c36",
   "metadata": {},
   "outputs": [
    {
     "name": "stdout",
     "output_type": "stream",
     "text": [
      "1 2 3 4 5 6 7 8 9\n",
      "3\n",
      "7 8 9 4 5 6 1 2 3\n"
     ]
    }
   ],
   "source": [
    "# Block swap algorithm for array rotation\n",
    "# swaping the blocks, i.e: swaping group of elements for rotation\n",
    "# group of elements are rotated at once\n",
    "\n",
    "arr = list(map(int, input().split()))\n",
    "k = int(input())\n",
    "\n",
    "arr[:] = arr[-k:] + arr[k:-k] + arr[:k]\n",
    "print(*arr)"
   ]
  },
  {
   "cell_type": "code",
   "execution_count": 37,
   "id": "b045557d",
   "metadata": {},
   "outputs": [
    {
     "name": "stdout",
     "output_type": "stream",
     "text": [
      "*      \n",
      "* *     \n",
      "* * *    \n",
      "* * * *   \n",
      "* * * * *  \n"
     ]
    }
   ],
   "source": [
    "n = 5\n",
    "p = \"* \"\n",
    "s = \" \"\n",
    "for i in range(1,n+1):\n",
    "    print(p*i, s*(n-i))"
   ]
  },
  {
   "cell_type": "code",
   "execution_count": 40,
   "id": "b3eb05b2",
   "metadata": {},
   "outputs": [
    {
     "name": "stdout",
     "output_type": "stream",
     "text": [
      "     *\n",
      "    **\n",
      "   ***\n",
      "  ****\n",
      " *****\n"
     ]
    }
   ],
   "source": [
    "n = 5\n",
    "p = \"*\"\n",
    "s = \" \"\n",
    "for i in range(1,n + 1):\n",
    "    print(s*(n-i), p*i)"
   ]
  },
  {
   "cell_type": "code",
   "execution_count": 53,
   "id": "4e61ed94",
   "metadata": {},
   "outputs": [
    {
     "name": "stdout",
     "output_type": "stream",
     "text": [
      "      *\n",
      "     ***\n",
      "    *****\n",
      "   *******\n",
      "  *********\n"
     ]
    }
   ],
   "source": [
    "n = 5\n",
    "p = \"*\"\n",
    "s = \" \"\n",
    "for i in range(n):\n",
    "    print(s*(n-i), p*(i*2+1))"
   ]
  },
  {
   "cell_type": "code",
   "execution_count": 69,
   "id": "25570c8e",
   "metadata": {},
   "outputs": [
    {
     "name": "stdout",
     "output_type": "stream",
     "text": [
      "1\n",
      "1 2\n",
      "1 2 3\n",
      "1 2 3 4\n",
      "1 2 3 4 5\n"
     ]
    }
   ],
   "source": [
    "l = list(range(1,5+1))\n",
    "for i in range(len(l)):\n",
    "    print(*l[:i+1])"
   ]
  },
  {
   "cell_type": "code",
   "execution_count": 70,
   "id": "12e547d7",
   "metadata": {},
   "outputs": [
    {
     "name": "stdout",
     "output_type": "stream",
     "text": [
      "1 2 3 4 5\n",
      "1 2 3 4\n",
      "1 2 3\n",
      "1 2\n",
      "1\n"
     ]
    }
   ],
   "source": [
    "l = list(range(1,5+1))\n",
    "for i in range(len(l), 0, -1):\n",
    "    print(*l[:i])"
   ]
  },
  {
   "cell_type": "code",
   "execution_count": 128,
   "id": "b3595be5",
   "metadata": {
    "scrolled": true
   },
   "outputs": [
    {
     "name": "stdout",
     "output_type": "stream",
     "text": [
      "5\n",
      "         1\n",
      "       2 3 2\n",
      "     3 4 5 4 3\n",
      "   4 5 6 7 6 5 4\n",
      " 5 6 7 8 9 8 7 6 5\n"
     ]
    }
   ],
   "source": [
    "n = int(input())\n",
    "s = ' '\n",
    "for i in range(1, n+1):\n",
    "    l = list(range(i,(i*2)))\n",
    "    print(s*(n-i)*2, *(l + l[::-1][1:]))"
   ]
  },
  {
   "cell_type": "code",
   "execution_count": 138,
   "id": "5d7af699",
   "metadata": {},
   "outputs": [
    {
     "name": "stdout",
     "output_type": "stream",
     "text": [
      "myNAMEisVIJAY\n"
     ]
    }
   ],
   "source": [
    "x  = \"MYnameISvijay\"\n",
    "z = \"\"\n",
    "for i in x:\n",
    "    if i.isupper():\n",
    "        z+=(i.lower())\n",
    "    elif i.islower():\n",
    "        z+=(i.upper())\n",
    "print(z)"
   ]
  },
  {
   "cell_type": "code",
   "execution_count": 142,
   "id": "d46973f5",
   "metadata": {},
   "outputs": [
    {
     "data": {
      "text/plain": [
       "'sncjcb NCJHZHDSZHSFVJB sdbcjfbcs CBJFBCJH'"
      ]
     },
     "execution_count": 142,
     "metadata": {},
     "output_type": "execute_result"
    }
   ],
   "source": [
    "x = \"SNCJCB ncjhzhdszhsfvjb SDBCJFBCS cbjfbcjh\"\n",
    "z = \"\"\n",
    "for i in x:\n",
    "    if i == \" \":\n",
    "        z+= \" \"\n",
    "    if i.isupper():\n",
    "        z += i.lower()\n",
    "    elif i.islower():\n",
    "        z += i.upper()\n",
    "z"
   ]
  },
  {
   "cell_type": "code",
   "execution_count": 145,
   "id": "08f0a1fb",
   "metadata": {},
   "outputs": [
    {
     "name": "stdout",
     "output_type": "stream",
     "text": [
      "aitipamulavijaychary\n",
      "9\n"
     ]
    }
   ],
   "source": [
    "v = ['a','e','i','o','u']\n",
    "s = input()\n",
    "count = 0\n",
    "for i in s:\n",
    "    if i in v:\n",
    "        count+=1\n",
    "        \n",
    "print(count)"
   ]
  },
  {
   "cell_type": "code",
   "execution_count": 147,
   "id": "a4715ef5",
   "metadata": {},
   "outputs": [
    {
     "name": "stdout",
     "output_type": "stream",
     "text": [
      "aitipamulavijaychary\n",
      "tpmlvjychry\n"
     ]
    }
   ],
   "source": [
    "v = ['a','e','i','o','u']\n",
    "s = input()\n",
    "z = \"\"\n",
    "\n",
    "for i in s:\n",
    "    if i in v:\n",
    "        continue\n",
    "    else:\n",
    "        z += i\n",
    "        \n",
    "print(z)"
   ]
  },
  {
   "cell_type": "code",
   "execution_count": 151,
   "id": "d9641fa6",
   "metadata": {},
   "outputs": [
    {
     "name": "stdout",
     "output_type": "stream",
     "text": [
      "kasb23\n",
      "5\n"
     ]
    }
   ],
   "source": [
    "s = input()\n",
    "c = 0\n",
    "for i in s:\n",
    "    if i.isdigit():\n",
    "        c += int(i)\n",
    "print(c)"
   ]
  },
  {
   "cell_type": "code",
   "execution_count": null,
   "id": "76c1327b",
   "metadata": {},
   "outputs": [],
   "source": []
  },
  {
   "cell_type": "code",
   "execution_count": null,
   "id": "10594515",
   "metadata": {},
   "outputs": [],
   "source": []
  },
  {
   "cell_type": "code",
   "execution_count": null,
   "id": "58c4b479",
   "metadata": {},
   "outputs": [],
   "source": []
  },
  {
   "cell_type": "code",
   "execution_count": null,
   "id": "b9a5cf50",
   "metadata": {},
   "outputs": [],
   "source": []
  },
  {
   "cell_type": "code",
   "execution_count": null,
   "id": "9e6669e5",
   "metadata": {},
   "outputs": [],
   "source": []
  }
 ],
 "metadata": {
  "kernelspec": {
   "display_name": "Python 3",
   "language": "python",
   "name": "python3"
  },
  "language_info": {
   "codemirror_mode": {
    "name": "ipython",
    "version": 3
   },
   "file_extension": ".py",
   "mimetype": "text/x-python",
   "name": "python",
   "nbconvert_exporter": "python",
   "pygments_lexer": "ipython3",
   "version": "3.8.8"
  }
 },
 "nbformat": 4,
 "nbformat_minor": 5
}
