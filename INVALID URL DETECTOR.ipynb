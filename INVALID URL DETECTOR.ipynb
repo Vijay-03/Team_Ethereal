{
 "cells": [
  {
   "cell_type": "code",
   "execution_count": 4,
   "id": "a2fd33ee",
   "metadata": {},
   "outputs": [
    {
     "name": "stdout",
     "output_type": "stream",
     "text": [
      "https://www.facebook.com\n"
     ]
    },
    {
     "data": {
      "text/plain": [
       "'VALID URL! Safe to browse.'"
      ]
     },
     "execution_count": 4,
     "metadata": {},
     "output_type": "execute_result"
    }
   ],
   "source": [
    "import re\n",
    "\n",
    "def is_valid(string):\n",
    "    \"\"\"\n",
    "    This function will take a url as string\n",
    "    and returns if it VALID OR INVALID\n",
    "    \"\"\"\n",
    "    regex = (\"((http|https)://)(www.)?\" +\n",
    "                 \"[a-zA-Z0-9@:%._\\\\+~#?&//=]\" +\n",
    "                 \"{2,256}\\\\.[a-z]\" +\n",
    "                 \"{2,6}\\\\b([-a-zA-Z0-9@:%\" +\n",
    "                 \"._\\\\+~#?&//=]*)\")\n",
    "    p = re.compile(regex)\n",
    "\n",
    "    if string == None or string == \"\":\n",
    "        return \"INVALID\"\n",
    "    elif re.search(p, string):\n",
    "        return \"VALID URL! Safe to browse.\"\n",
    "    else:\n",
    "        return \"INVALID URL! Not advisable to browse!\"\n",
    "\n",
    "input_url = input()\n",
    "url1 = \"https://www.facebook.com\"\n",
    "url2 = \"https://dare2compete.com/o/juspay-hiring-challenge-think-big-with-functional-programming-juspay-169172#tabs-round\"\n",
    "url3 = ''\n",
    "\n",
    "\n",
    "is_valid(input_url)\n"
   ]
  },
  {
   "cell_type": "code",
   "execution_count": null,
   "id": "8a667a39",
   "metadata": {},
   "outputs": [],
   "source": []
  },
  {
   "cell_type": "code",
   "execution_count": null,
   "id": "04ee6274",
   "metadata": {},
   "outputs": [],
   "source": []
  }
 ],
 "metadata": {
  "kernelspec": {
   "display_name": "Python 3",
   "language": "python",
   "name": "python3"
  },
  "language_info": {
   "codemirror_mode": {
    "name": "ipython",
    "version": 3
   },
   "file_extension": ".py",
   "mimetype": "text/x-python",
   "name": "python",
   "nbconvert_exporter": "python",
   "pygments_lexer": "ipython3",
   "version": "3.8.8"
  }
 },
 "nbformat": 4,
 "nbformat_minor": 5
}
